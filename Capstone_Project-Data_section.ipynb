{
 "cells": [
  {
   "cell_type": "markdown",
   "metadata": {},
   "source": [
    "# Capstone Project – The Battle of Neighborhoods | Investing in Luisville Kentucky"
   ]
  },
  {
   "cell_type": "markdown",
   "metadata": {},
   "source": [
    "##        Business Problem section "
   ]
  },
  {
   "cell_type": "markdown",
   "metadata": {},
   "source": [
    "## Introduction:\n",
    "The purpose of this project is to help new entrepreneurs who want to make better decisions regarding a better location for openning any business place in the city of Luisville, Kentucky state in USA.\n",
    "\n",
    "Before starting a business, it is necessary to carry out an analysis of features and facilities that the different neighborhoods of a city could offer. This project is for those people who are looking for safe and better neighborhoods in order to open a commercial establishments. Specifically, this report will be targeted to stakeholders interested in opening any food and beverage businesses in Luisville City, Usa.\n",
    "\n",
    "\n",
    "#### Background\n",
    "\n",
    "Louisville Jefferson County is the largest city in the Commonwealth of Kentucky and the 29th most-populous city in the United States. It is one of two cities in Kentucky designated as first-class, is a significant manufacturing, with two major Ford Motor Company plants, and the headquarters and major home appliance factory of GE Appliances, is also a major center of the American Whiskey industry, with about one third of all bourbon whiskey comming from Louisville. This city prides itself in its large assortmen of small, independent businesses and restaurants, some of which have become known for their ingenuity and creativity. This city is a place that offers many opportunities to invest since the purchasing power of citizens is very favorable.  \n",
    "\n",
    "\n",
    "#### Business Problem\n",
    "\n",
    "The main objective of this project is to adopt machine learning tools to develop an analysis of the neighborhoods of the selected city (Louisville, Kentucky) to suggest a better place to invest in order to set up a tex-mex food restaurant.     \n",
    "\n",
    "To solve this business problem, we are going to cluster Louisville neighborhoods in order to recommend places with favorable characteristics for investing, easy access, security, commercial activity, etc."
   ]
  },
  {
   "cell_type": "markdown",
   "metadata": {},
   "source": [
    "## Data Section"
   ]
  },
  {
   "cell_type": "markdown",
   "metadata": {},
   "source": [
    "Based on definition of the problem to solve, factors that may be relevants to make our decision are:\n",
    "<ul>\n",
    "    <li>Demographic information, e.g. population, density, education, age, income</li>\n",
    "    <li>Louisville data containing neighborhoods and boroughs, latitudes, and longitudes, extracted from Wikipedia (<a href=\"https://en.wikipedia.org/wiki/Neighborhoods_in_Louisville,_Kentucky\">Wikipedia</a>) and <a href=\"https://geodatos.net/\">Geodatos</a>. In this section is necessary to clean the data in order to organize in a correct way</li>\n",
    "    <li>Restaurants, shopping malls in every neighborhood</li>\n",
    "    <li>Coordinate of Louisville obtained using https://geodatos.net</li>\n",
    "    <li>It is necessary to use <strong>Geopy</strong> to get geological location by address name</li>\n",
    "    <li>To get the most common venues of Borough of Louisville is necesary to use <strong>Foursquare API</strong></li>\n",
    "    <li>To get the venues' record we use Foursquare API</li>\n",
    "    <li><strong>Folium:</strong> this library is used to show Louisville boundary in the Folium map</li>\n",
    "    <li>During the realization of the project, it is likely that it will be necessary to use other python libraries so that the data is adequate for better results.</li>\n",
    " </ul>   "
   ]
  },
  {
   "cell_type": "code",
   "execution_count": null,
   "metadata": {},
   "outputs": [],
   "source": []
  }
 ],
 "metadata": {
  "kernelspec": {
   "display_name": "Python 3",
   "language": "python",
   "name": "python3"
  },
  "language_info": {
   "codemirror_mode": {
    "name": "ipython",
    "version": 3
   },
   "file_extension": ".py",
   "mimetype": "text/x-python",
   "name": "python",
   "nbconvert_exporter": "python",
   "pygments_lexer": "ipython3",
   "version": "3.7.6"
  }
 },
 "nbformat": 4,
 "nbformat_minor": 4
}
